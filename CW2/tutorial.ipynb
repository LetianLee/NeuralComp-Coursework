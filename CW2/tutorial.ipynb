{
 "cells": [
  {
   "cell_type": "markdown",
   "metadata": {
    "id": "2guthgOz-Ssm"
   },
   "source": [
    "# Coursework 2 for Cardiac MR Image Segmentation (2020-2021)\n",
    "\n",
    "After you have gone through the coursework description, this tutorial is designed to further helps you understand the problem and therefore enable you to propose a good solution for this coursework. You will learn:\n",
    "\n",
    "* how to load and save images with OpenCV\n",
    "* how to train a segmentation model with Pytorch\n",
    "* how to evaluate the trained model"
   ]
  },
  {
   "cell_type": "markdown",
   "metadata": {
    "id": "gsnVbP35-Sso"
   },
   "source": [
    "## 1. Load, show, and save images with OpenCV\n",
    "\n",
    "OpenCV is an open-source computer vision library which helps us to manipulate image data. In this section, we will cover:\n",
    "* Loading an image from file with imread()\n",
    "* Displaying the image with matplotlib plt.imshow()\n",
    "* Saving an image with imwrite()\n",
    "\n",
    "For a more comprehensive study of OpenCV, we encourage you to check the official [OpenCV documentation](https://docs.opencv.org/master/index.html)."
   ]
  },
  {
   "cell_type": "code",
   "execution_count": 1,
   "metadata": {
    "id": "C7ZvSiY3qW_U"
   },
   "outputs": [],
   "source": [
    "from matplotlib import pyplot as plt\n",
    "def show_image_mask(img, mask, cmap='gray'): # visualisation\n",
    "    fig = plt.figure(figsize=(5,5))\n",
    "    plt.subplot(1, 2, 1)\n",
    "    plt.imshow(img, cmap=cmap)\n",
    "    plt.axis('off')\n",
    "    plt.subplot(1, 2, 2)\n",
    "    plt.imshow(mask, cmap=cmap)\n",
    "    plt.axis('off')"
   ]
  },
  {
   "cell_type": "code",
   "execution_count": 2,
   "metadata": {
    "id": "EN5WJ_XG-Sso"
   },
   "outputs": [
    {
     "data": {
      "image/png": "[encoded data removed]",
      "text/plain": [
       "<Figure size 360x360 with 2 Axes>"
      ]
     },
     "metadata": {
      "needs_background": "light"
     },
     "output_type": "display_data"
    },
    {
     "data": {
      "text/plain": [
       "True"
      ]
     },
     "execution_count": 2,
     "metadata": {},
     "output_type": "execute_result"
    }
   ],
   "source": [
    "import os\n",
    "import cv2 #import OpenCV\n",
    "\n",
    "data_dir = './data/train'\n",
    "image = cv2.imread(os.path.join(data_dir,'image','cmr1.png'), cv2.IMREAD_UNCHANGED)\n",
    "mask = cv2.imread(os.path.join(data_dir,'mask','cmr1_mask.png'), cv2.IMREAD_UNCHANGED)\n",
    "show_image_mask(image, mask, cmap='gray')\n",
    "plt.pause(1)\n",
    "cv2.imwrite(os.path.join('./','cmr1.png'), mask*85)"
   ]
  },
  {
   "cell_type": "markdown",
   "metadata": {
    "id": "7UDvsGZnYfHS"
   },
   "source": [
    "Note: You will no doubt notice that the mask images appear to be completely black with no sign of any segmentations. This is because the max intensity of pixels in an 8-bit png image is 255 and your image viewer software only sees 255 as white. For those values close to zero, you will only see dark values. This is the case for our masks as the background, the right ventricle, the myocardium, and the left ventricle in each image are 0, 1, 2, and 3, respectively. All of which are close to zero. If we multiply the original mask by 85 and save the result to the directory where this code is, we can see the heart indeed shows up. "
   ]
  },
  {
   "cell_type": "markdown",
   "metadata": {
    "id": "hULAX3WH-Sss"
   },
   "source": [
    "## 2 Define a segmentation model with Pytorch\n",
    "\n",
    "In this section, we expect you to learn how to:\n",
    "* Define a Segmentation Model\n",
    "* Define a DataLoader that inputs images to the Model\n",
    "* Define training parameters and train the model\n",
    "* Test the trained model with a new input image"
   ]
  },
  {
   "cell_type": "markdown",
   "metadata": {
    "id": "IrKFgoZvUbeg"
   },
   "source": [
    "### 2.1 Define a DataLoader"
   ]
  },
  {
   "cell_type": "markdown",
   "metadata": {
    "id": "kC9s43MqqW_U"
   },
   "source": [
    "Below we provide you with a dataloader to use in your assigment. You will only need to focus on the development of your model and loss function.\n",
    "\n"
   ]
  },
  {
   "cell_type": "code",
   "execution_count": 3,
   "metadata": {
    "id": "XYrD95T8qz8T"
   },
   "outputs": [],
   "source": [
    "import torch\n",
    "import torch.utils.data as data\n",
    "import cv2\n",
    "import os\n",
    "from glob import glob\n",
    "\n",
    "class TrainDataset(data.Dataset):\n",
    "    def __init__(self, root=''):\n",
    "        super(TrainDataset, self).__init__()\n",
    "        self.img_files = glob(os.path.join(root,'image','*.png'))\n",
    "        self.mask_files = []\n",
    "        for img_path in self.img_files:\n",
    "            basename = os.path.basename(img_path)\n",
    "            self.mask_files.append(os.path.join(root,'mask',basename[:-4]+'_mask.png'))\n",
    "            \n",
    "\n",
    "    def __getitem__(self, index):\n",
    "            img_path = self.img_files[index]\n",
    "            mask_path = self.mask_files[index]\n",
    "            data = cv2.imread(img_path, cv2.IMREAD_UNCHANGED)\n",
    "            label = cv2.imread(mask_path, cv2.IMREAD_UNCHANGED)\n",
    "            return torch.from_numpy(data).float(), torch.from_numpy(label).float()\n",
    "\n",
    "    def __len__(self):\n",
    "        return len(self.img_files)\n",
    "\n",
    "class TestDataset(data.Dataset):\n",
    "    def __init__(self, root=''):\n",
    "        super(TestDataset, self).__init__()\n",
    "        self.img_files = glob(os.path.join(root,'image','*.png'))\n",
    "\n",
    "    def __getitem__(self, index):\n",
    "            img_path = self.img_files[index]\n",
    "            data = cv2.imread(img_path, cv2.IMREAD_UNCHANGED)\n",
    "            return torch.from_numpy(data).float()\n",
    "\n",
    "    def __len__(self):\n",
    "        return len(self.img_files)\n"
   ]
  },
  {
   "cell_type": "markdown",
   "metadata": {
    "id": "82UAfnwSUgc_"
   },
   "source": [
    "### 2.2 Define a Segmenatation Model"
   ]
  },
  {
   "cell_type": "markdown",
   "metadata": {
    "id": "gEIkCqdfYnIn"
   },
   "source": [
    "You will need to define your CNN model for segmentation below"
   ]
  },
  {
   "cell_type": "code",
   "execution_count": 4,
   "metadata": {
    "id": "-W6532hFXa_g"
   },
   "outputs": [],
   "source": [
    "import torch\n",
    "import torch.nn as nn\n",
    "import torch.nn.functional as F\n",
    "\n",
    "\n",
    "class CNNSEG(nn.Module): # Define your model\n",
    "    def __init__(self):\n",
    "        super(CNNSEG, self).__init__()\n",
    "        # 1 input image channel, 6 output channels, 3x3 square convolution\n",
    "        # kernel\n",
    "        self.conv1 = nn.Conv2d(1, 6, 3)\n",
    "        self.conv2 = nn.Conv2d(6, 16, 3)\n",
    "        # an affine operation: y = Wx + b\n",
    "        self.fc1 = nn.Linear(16 * 6 * 6, 120)  # 6*6 from image dimension\n",
    "        self.fc2 = nn.Linear(120, 84)\n",
    "        self.fc3 = nn.Linear(84, 10)\n",
    "\n",
    "    def forward(self, x):\n",
    "        # Max pooling over a (2, 2) window\n",
    "        x = F.max_pool2d(F.relu(self.conv1(x)), (2, 2))\n",
    "        # If the size is a square you can only specify a single number\n",
    "        x = F.max_pool2d(F.relu(self.conv2(x)), 2)\n",
    "        x = x.view(-1, self.num_flat_features(x))\n",
    "        x = F.relu(self.fc1(x))\n",
    "        x = F.relu(self.fc2(x))\n",
    "        x = self.fc3(x)\n",
    "        return x\n",
    "    \n",
    "    def num_flat_features(self, x):\n",
    "        size = x.size()[1:]  # all dimensions except the batch dimension\n",
    "        num_features = 1\n",
    "        for s in size:\n",
    "            num_features *= s\n",
    "        return num_features\n",
    "    \n",
    "model = CNNSEG() # We can now create a model using your defined segmentation model\n",
    "# data_path = './data/train'\n",
    "# train_set = TrainDataset(data_path)\n",
    "# #input = torch.randn(1,1,96,96)\n",
    "# #out = model(input)\n",
    "# #print(out)\n",
    "# for x in train_set:\n",
    "#     print(x[0].size())\n",
    "#     input = x[0]\n",
    "#     a = model.forward(input)\n",
    "#     print(a)\n",
    "#     x[1] = a"
   ]
  },
  {
   "cell_type": "code",
   "execution_count": 5,
   "metadata": {},
   "outputs": [],
   "source": [
    "import torch\n",
    "import torch.nn as nn\n",
    "import torch.nn.functional as F\n",
    "\n",
    "\n",
    "class ContBatchNorm3d(nn.modules.batchnorm._BatchNorm):\n",
    "    def _check_input_dim(self, input):\n",
    "\n",
    "        if input.dim() != 5:\n",
    "            pass\n",
    "#             raise ValueError('expected 5D input (got {}D input)'.format(input.dim()))\n",
    "        #super(ContBatchNorm3d, self)._check_input_dim(input)\n",
    "\n",
    "    def forward(self, input):\n",
    "        self._check_input_dim(input)\n",
    "        return F.batch_norm(\n",
    "            input, self.running_mean, self.running_var, self.weight, self.bias,\n",
    "            True, self.momentum, self.eps)\n",
    "\n",
    "\n",
    "class LUConv(nn.Module):\n",
    "    def __init__(self, in_chan, out_chan, act):\n",
    "        super(LUConv, self).__init__()\n",
    "        self.conv1 = nn.Conv2d(in_chan, out_chan, kernel_size=3, padding=1)\n",
    "        self.bn1 = ContBatchNorm3d(out_chan)\n",
    "\n",
    "        if act == 'relu':\n",
    "            self.activation = nn.ReLU(out_chan)\n",
    "        elif act == 'prelu':\n",
    "            self.activation = nn.PReLU(out_chan)\n",
    "        elif act == 'elu':\n",
    "            self.activation = nn.ELU(inplace=True)\n",
    "        else:\n",
    "            raise\n",
    "\n",
    "    def forward(self, x):\n",
    "        out = self.activation(self.bn1(self.conv1(x)))\n",
    "        return out\n",
    "\n",
    "\n",
    "def _make_nConv(in_channel, depth, act, double_chnnel=False):\n",
    "    if double_chnnel:\n",
    "        layer1 = LUConv(in_channel, 32 * (2 ** (depth+1)),act)\n",
    "        layer2 = LUConv(32 * (2 ** (depth+1)), 32 * (2 ** (depth+1)),act)\n",
    "    else:\n",
    "        layer1 = LUConv(in_channel, 32*(2**depth),act)\n",
    "        layer2 = LUConv(32*(2**depth), 32*(2**depth)*2,act)\n",
    "\n",
    "    return nn.Sequential(layer1,layer2)\n",
    "\n",
    "\n",
    "# class InputTransition(nn.Module):\n",
    "#     def __init__(self, outChans, elu):\n",
    "#         super(InputTransition, self).__init__()\n",
    "#         self.conv1 = nn.Conv3d(1, 16, kernel_size=5, padding=2)\n",
    "#         self.bn1 = ContBatchNorm3d(16)\n",
    "#         self.relu1 = ELUCons(elu, 16)\n",
    "#\n",
    "#     def forward(self, x):\n",
    "#         # do we want a PRELU here as well?\n",
    "#         out = self.bn1(self.conv1(x))\n",
    "#         # split input in to 16 channels\n",
    "#         x16 = torch.cat((x, x, x, x, x, x, x, x,\n",
    "#                          x, x, x, x, x, x, x, x), 1)\n",
    "#         out = self.relu1(torch.add(out, x16))\n",
    "#         return out\n",
    "\n",
    "class DownTransition(nn.Module):\n",
    "    def __init__(self, in_channel,depth, act):\n",
    "        super(DownTransition, self).__init__()\n",
    "        self.ops = _make_nConv(in_channel, depth,act)\n",
    "        self.maxpool = nn.MaxPool2d(2)\n",
    "        self.current_depth = depth\n",
    "\n",
    "    def forward(self, x):\n",
    "        if self.current_depth == 3:\n",
    "            out = self.ops(x)\n",
    "            out_before_pool = out\n",
    "        else:\n",
    "            out_before_pool = self.ops(x)\n",
    "            out = self.maxpool(out_before_pool)\n",
    "        return out, out_before_pool\n",
    "\n",
    "class UpTransition(nn.Module):\n",
    "    def __init__(self, inChans, outChans, depth,act):\n",
    "        super(UpTransition, self).__init__()\n",
    "        self.depth = depth\n",
    "        self.up_conv = nn.ConvTranspose2d(inChans, outChans, kernel_size=2, stride=2)\n",
    "        self.ops = _make_nConv(inChans+ outChans//2,depth, act, double_chnnel=True)\n",
    "\n",
    "    def forward(self, x, skip_x):\n",
    "        out_up_conv = self.up_conv(x)\n",
    "        concat = torch.cat((out_up_conv,skip_x),1)\n",
    "        out = self.ops(concat)\n",
    "        return out\n",
    "\n",
    "\n",
    "class OutputTransition(nn.Module):\n",
    "    def __init__(self, inChans, n_labels):\n",
    "\n",
    "        super(OutputTransition, self).__init__()\n",
    "        self.final_conv = nn.Conv2d(inChans, n_labels, kernel_size=1)\n",
    "        self.sigmoid = nn.Sigmoid()\n",
    "\n",
    "    def forward(self, x):\n",
    "        out = self.sigmoid(self.final_conv(x))\n",
    "        return out\n",
    "\n",
    "class UNet3D(nn.Module):\n",
    "    # the number of convolutions in each layer corresponds\n",
    "    # to what is in the actual prototxt, not the intent\n",
    "    def __init__(self, n_class=4, act='relu'):\n",
    "        super(UNet3D, self).__init__()\n",
    "\n",
    "        self.down_tr64 = DownTransition(1,0,act)\n",
    "        self.down_tr128 = DownTransition(64,1,act)\n",
    "        self.down_tr256 = DownTransition(128,2,act)\n",
    "        self.down_tr512 = DownTransition(256,3,act)\n",
    "\n",
    "        self.up_tr256 = UpTransition(512, 512,2,act)\n",
    "        self.up_tr128 = UpTransition(256,256, 1,act)\n",
    "        self.up_tr64 = UpTransition(128,128,0,act)\n",
    "        self.out_tr = OutputTransition(64, n_class)\n",
    "\n",
    "    def forward(self, x):\n",
    "        self.out64, self.skip_out64 = self.down_tr64(x)\n",
    "        self.out128,self.skip_out128 = self.down_tr128(self.out64)\n",
    "        self.out256,self.skip_out256 = self.down_tr256(self.out128)\n",
    "        self.out512,self.skip_out512 = self.down_tr512(self.out256)\n",
    "\n",
    "        self.out_up_256 = self.up_tr256(self.out512,self.skip_out256)\n",
    "        self.out_up_128 = self.up_tr128(self.out_up_256, self.skip_out128)\n",
    "        self.out_up_64 = self.up_tr64(self.out_up_128, self.skip_out64)\n",
    "        self.out = self.out_tr(self.out_up_64)\n",
    "\n",
    "        return self.out\n",
    "\n",
    "model = UNet3D()"
   ]
  },
  {
   "cell_type": "markdown",
   "metadata": {
    "id": "nRdPFTa9a34J"
   },
   "source": [
    "### 2.3 Define a Loss function and optimizer\n",
    "\n",
    "You will need to define a loss function and an optimizer. torch.nn has a variety of readymade loss functions, although you may wish to create your own instead. torch.optim has a variety of optimizers, it is advised that you use one of these."
   ]
  },
  {
   "cell_type": "code",
   "execution_count": 6,
   "metadata": {
    "id": "QRjOZGXRbUFT"
   },
   "outputs": [],
   "source": [
    "\"\"\"\n",
    "loss & optimizer\n",
    "\"\"\"\n",
    "import torch.optim as optim\n",
    "from torch.optim import AdamW\n",
    "# Loss = nn.CrossEntropyLoss(weight=torch.Tensor([1,3,3,3]))\n",
    "Loss = nn.CrossEntropyLoss()\n",
    "optimizer = optim.SGD(model.parameters(), lr=1)\n",
    "# optimizer = AdamW(model.parameters(), 0.1)"
   ]
  },
  {
   "cell_type": "markdown",
   "metadata": {
    "id": "grDz3fR1qW_V"
   },
   "source": [
    "### 2.4 Training\n",
    "\n",
    "As most of you will use CPUs to train the model, expect your models to take **30 minutes to train if not longer depending on network architecture**. To save time, you should not be using all training data until your model is well developed. If you are running your model on a GPU training should be significantly faster. During the training process, you may want to save the checkpoints as follows:\n",
    "\n",
    "```\n",
    "# Saving checkpoints for validation/testing\n",
    "torch.save(model.state_dict(), path)\n",
    "```\n",
    "The saved checkpoints can be used to load at a later date for validation and testing. Here we give some example code for training a model. Note that you need to specify the max iterations you want to train the model."
   ]
  },
  {
   "cell_type": "code",
   "execution_count": 7,
   "metadata": {
    "id": "iCb4bxVVchxf",
    "scrolled": true
   },
   "outputs": [
    {
     "name": "stdout",
     "output_type": "stream",
     "text": [
      "epoch, iteration: 0 0\n",
      "loss: tensor(1.3770, grad_fn=<NllLoss2DBackward>)\n",
      "epoch, iteration: 0 1\n",
      "loss: tensor(1.1501, grad_fn=<NllLoss2DBackward>)\n",
      "epoch, iteration: 0 2\n",
      "loss: tensor(1.0546, grad_fn=<NllLoss2DBackward>)\n",
      "epoch, iteration: 0 3\n",
      "loss: tensor(1.0278, grad_fn=<NllLoss2DBackward>)\n",
      "epoch, iteration: 0 4\n",
      "loss: tensor(0.9867, grad_fn=<NllLoss2DBackward>)\n",
      "epoch, iteration: 0 5\n",
      "loss: tensor(0.9654, grad_fn=<NllLoss2DBackward>)\n",
      "epoch, iteration: 0 6\n",
      "loss: tensor(0.9460, grad_fn=<NllLoss2DBackward>)\n",
      "epoch, iteration: 0 7\n",
      "loss: tensor(0.9440, grad_fn=<NllLoss2DBackward>)\n",
      "epoch, iteration: 0 8\n",
      "loss: tensor(0.9793, grad_fn=<NllLoss2DBackward>)\n",
      "epoch, iteration: 0 9\n",
      "loss: tensor(0.9414, grad_fn=<NllLoss2DBackward>)\n",
      "epoch, iteration: 0 10\n",
      "loss: tensor(0.9447, grad_fn=<NllLoss2DBackward>)\n",
      "epoch, iteration: 0 11\n",
      "loss: tensor(0.9093, grad_fn=<NllLoss2DBackward>)\n",
      "epoch, iteration: 0 12\n",
      "loss: tensor(0.9093, grad_fn=<NllLoss2DBackward>)\n",
      "epoch, iteration: 0 13\n",
      "loss: tensor(0.9239, grad_fn=<NllLoss2DBackward>)\n",
      "epoch, iteration: 0 14\n",
      "loss: tensor(0.9418, grad_fn=<NllLoss2DBackward>)\n",
      "epoch, iteration: 0 15\n",
      "loss: tensor(0.9176, grad_fn=<NllLoss2DBackward>)\n",
      "epoch, iteration: 0 16\n",
      "loss: tensor(0.9150, grad_fn=<NllLoss2DBackward>)\n",
      "epoch, iteration: 0 17\n",
      "loss: tensor(0.9627, grad_fn=<NllLoss2DBackward>)\n",
      "epoch, iteration: 0 18\n",
      "loss: tensor(0.8944, grad_fn=<NllLoss2DBackward>)\n",
      "epoch, iteration: 0 19\n",
      "loss: tensor(0.9128, grad_fn=<NllLoss2DBackward>)\n",
      "epoch, iteration: 0 20\n",
      "loss: tensor(0.9295, grad_fn=<NllLoss2DBackward>)\n",
      "epoch, iteration: 0 21\n",
      "loss: tensor(0.8912, grad_fn=<NllLoss2DBackward>)\n",
      "epoch, iteration: 0 22\n",
      "loss: tensor(0.9294, grad_fn=<NllLoss2DBackward>)\n",
      "epoch, iteration: 0 23\n",
      "loss: tensor(0.9552, grad_fn=<NllLoss2DBackward>)\n",
      "epoch, iteration: 0 24\n",
      "loss: tensor(0.9147, grad_fn=<NllLoss2DBackward>)\n",
      "epoch, iteration: 1 0\n",
      "loss: tensor(0.9267, grad_fn=<NllLoss2DBackward>)\n",
      "epoch, iteration: 1 1\n",
      "loss: tensor(0.9206, grad_fn=<NllLoss2DBackward>)\n",
      "epoch, iteration: 1 2\n",
      "loss: tensor(0.9674, grad_fn=<NllLoss2DBackward>)\n",
      "epoch, iteration: 1 3\n",
      "loss: tensor(0.8792, grad_fn=<NllLoss2DBackward>)\n",
      "epoch, iteration: 1 4\n",
      "loss: tensor(0.8910, grad_fn=<NllLoss2DBackward>)\n",
      "epoch, iteration: 1 5\n",
      "loss: tensor(0.9346, grad_fn=<NllLoss2DBackward>)\n",
      "epoch, iteration: 1 6\n",
      "loss: tensor(0.9295, grad_fn=<NllLoss2DBackward>)\n",
      "epoch, iteration: 1 7\n",
      "loss: tensor(0.8768, grad_fn=<NllLoss2DBackward>)\n",
      "epoch, iteration: 1 8\n",
      "loss: tensor(0.8931, grad_fn=<NllLoss2DBackward>)\n",
      "epoch, iteration: 1 9\n",
      "loss: tensor(0.9014, grad_fn=<NllLoss2DBackward>)\n",
      "epoch, iteration: 1 10\n",
      "loss: tensor(0.9139, grad_fn=<NllLoss2DBackward>)\n",
      "epoch, iteration: 1 11\n",
      "loss: tensor(0.9017, grad_fn=<NllLoss2DBackward>)\n",
      "epoch, iteration: 1 12\n",
      "loss: tensor(0.8641, grad_fn=<NllLoss2DBackward>)\n",
      "epoch, iteration: 1 13\n",
      "loss: tensor(0.8789, grad_fn=<NllLoss2DBackward>)\n",
      "epoch, iteration: 1 14\n",
      "loss: tensor(0.8886, grad_fn=<NllLoss2DBackward>)\n",
      "epoch, iteration: 1 15\n",
      "loss: tensor(0.8609, grad_fn=<NllLoss2DBackward>)\n",
      "epoch, iteration: 1 16\n",
      "loss: tensor(0.8772, grad_fn=<NllLoss2DBackward>)\n",
      "epoch, iteration: 1 17\n",
      "loss: tensor(0.8685, grad_fn=<NllLoss2DBackward>)\n",
      "epoch, iteration: 1 18\n",
      "loss: tensor(0.8869, grad_fn=<NllLoss2DBackward>)\n",
      "epoch, iteration: 1 19\n",
      "loss: tensor(0.8811, grad_fn=<NllLoss2DBackward>)\n",
      "epoch, iteration: 1 20\n",
      "loss: tensor(0.8774, grad_fn=<NllLoss2DBackward>)\n",
      "epoch, iteration: 1 21\n",
      "loss: tensor(0.9128, grad_fn=<NllLoss2DBackward>)\n",
      "epoch, iteration: 1 22\n",
      "loss: tensor(0.8791, grad_fn=<NllLoss2DBackward>)\n",
      "epoch, iteration: 1 23\n",
      "loss: tensor(0.8676, grad_fn=<NllLoss2DBackward>)\n",
      "epoch, iteration: 1 24\n",
      "loss: tensor(0.8986, grad_fn=<NllLoss2DBackward>)\n",
      "epoch, iteration: 2 0\n",
      "loss: tensor(0.8788, grad_fn=<NllLoss2DBackward>)\n",
      "epoch, iteration: 2 1\n",
      "loss: tensor(0.8696, grad_fn=<NllLoss2DBackward>)\n",
      "epoch, iteration: 2 2\n",
      "loss: tensor(0.8715, grad_fn=<NllLoss2DBackward>)\n",
      "epoch, iteration: 2 3\n",
      "loss: tensor(0.8682, grad_fn=<NllLoss2DBackward>)\n",
      "epoch, iteration: 2 4\n",
      "loss: tensor(0.9180, grad_fn=<NllLoss2DBackward>)\n",
      "epoch, iteration: 2 5\n",
      "loss: tensor(0.8867, grad_fn=<NllLoss2DBackward>)\n",
      "epoch, iteration: 2 6\n",
      "loss: tensor(0.8910, grad_fn=<NllLoss2DBackward>)\n",
      "epoch, iteration: 2 7\n",
      "loss: tensor(0.8748, grad_fn=<NllLoss2DBackward>)\n",
      "epoch, iteration: 2 8\n",
      "loss: tensor(0.8507, grad_fn=<NllLoss2DBackward>)\n",
      "epoch, iteration: 2 9\n",
      "loss: tensor(0.8602, grad_fn=<NllLoss2DBackward>)\n",
      "epoch, iteration: 2 10\n",
      "loss: tensor(0.8692, grad_fn=<NllLoss2DBackward>)\n",
      "epoch, iteration: 2 11\n",
      "loss: tensor(0.9019, grad_fn=<NllLoss2DBackward>)\n",
      "epoch, iteration: 2 12\n",
      "loss: tensor(0.8610, grad_fn=<NllLoss2DBackward>)\n",
      "epoch, iteration: 2 13\n",
      "loss: tensor(0.8363, grad_fn=<NllLoss2DBackward>)\n",
      "epoch, iteration: 2 14\n",
      "loss: tensor(0.8685, grad_fn=<NllLoss2DBackward>)\n",
      "epoch, iteration: 2 15\n",
      "loss: tensor(0.8715, grad_fn=<NllLoss2DBackward>)\n",
      "epoch, iteration: 2 16\n",
      "loss: tensor(0.8402, grad_fn=<NllLoss2DBackward>)\n",
      "epoch, iteration: 2 17\n",
      "loss: tensor(0.8877, grad_fn=<NllLoss2DBackward>)\n",
      "epoch, iteration: 2 18\n",
      "loss: tensor(0.8200, grad_fn=<NllLoss2DBackward>)\n",
      "epoch, iteration: 2 19\n",
      "loss: tensor(0.8486, grad_fn=<NllLoss2DBackward>)\n",
      "epoch, iteration: 2 20\n",
      "loss: tensor(0.8387, grad_fn=<NllLoss2DBackward>)\n",
      "epoch, iteration: 2 21\n",
      "loss: tensor(0.8570, grad_fn=<NllLoss2DBackward>)\n",
      "epoch, iteration: 2 22\n",
      "loss: tensor(0.8813, grad_fn=<NllLoss2DBackward>)\n",
      "epoch, iteration: 2 23\n",
      "loss: tensor(0.8464, grad_fn=<NllLoss2DBackward>)\n",
      "epoch, iteration: 2 24\n",
      "loss: tensor(0.8441, grad_fn=<NllLoss2DBackward>)\n",
      "epoch, iteration: 3 0\n",
      "loss: tensor(0.8227, grad_fn=<NllLoss2DBackward>)\n",
      "epoch, iteration: 3 1\n",
      "loss: tensor(0.8597, grad_fn=<NllLoss2DBackward>)\n",
      "epoch, iteration: 3 2\n",
      "loss: tensor(0.8306, grad_fn=<NllLoss2DBackward>)\n",
      "epoch, iteration: 3 3\n",
      "loss: tensor(0.8400, grad_fn=<NllLoss2DBackward>)\n",
      "epoch, iteration: 3 4\n",
      "loss: tensor(0.8354, grad_fn=<NllLoss2DBackward>)\n",
      "epoch, iteration: 3 5\n",
      "loss: tensor(0.8518, grad_fn=<NllLoss2DBackward>)\n",
      "epoch, iteration: 3 6\n",
      "loss: tensor(0.8307, grad_fn=<NllLoss2DBackward>)\n",
      "epoch, iteration: 3 7\n",
      "loss: tensor(0.8662, grad_fn=<NllLoss2DBackward>)\n",
      "epoch, iteration: 3 8\n",
      "loss: tensor(0.8151, grad_fn=<NllLoss2DBackward>)\n",
      "epoch, iteration: 3 9\n",
      "loss: tensor(0.8281, grad_fn=<NllLoss2DBackward>)\n",
      "epoch, iteration: 3 10\n",
      "loss: tensor(0.8520, grad_fn=<NllLoss2DBackward>)\n",
      "epoch, iteration: 3 11\n",
      "loss: tensor(0.8240, grad_fn=<NllLoss2DBackward>)\n",
      "epoch, iteration: 3 12\n",
      "loss: tensor(0.8028, grad_fn=<NllLoss2DBackward>)\n",
      "epoch, iteration: 3 13\n",
      "loss: tensor(0.7993, grad_fn=<NllLoss2DBackward>)\n",
      "epoch, iteration: 3 14\n",
      "loss: tensor(0.8236, grad_fn=<NllLoss2DBackward>)\n",
      "epoch, iteration: 3 15\n",
      "loss: tensor(0.8593, grad_fn=<NllLoss2DBackward>)\n",
      "epoch, iteration: 3 16\n",
      "loss: tensor(0.8116, grad_fn=<NllLoss2DBackward>)\n",
      "epoch, iteration: 3 17\n",
      "loss: tensor(0.8209, grad_fn=<NllLoss2DBackward>)\n",
      "epoch, iteration: 3 18\n",
      "loss: tensor(0.8262, grad_fn=<NllLoss2DBackward>)\n",
      "epoch, iteration: 3 19\n",
      "loss: tensor(0.8280, grad_fn=<NllLoss2DBackward>)\n",
      "epoch, iteration: 3 20\n",
      "loss: tensor(0.8377, grad_fn=<NllLoss2DBackward>)\n",
      "epoch, iteration: 3 21\n",
      "loss: tensor(0.8119, grad_fn=<NllLoss2DBackward>)\n",
      "epoch, iteration: 3 22\n",
      "loss: tensor(0.8836, grad_fn=<NllLoss2DBackward>)\n",
      "epoch, iteration: 3 23\n",
      "loss: tensor(0.8624, grad_fn=<NllLoss2DBackward>)\n",
      "epoch, iteration: 3 24\n",
      "loss: tensor(0.8209, grad_fn=<NllLoss2DBackward>)\n",
      "epoch, iteration: 4 0\n",
      "loss: tensor(0.8339, grad_fn=<NllLoss2DBackward>)\n",
      "epoch, iteration: 4 1\n",
      "loss: tensor(0.8082, grad_fn=<NllLoss2DBackward>)\n",
      "epoch, iteration: 4 2\n",
      "loss: tensor(0.7964, grad_fn=<NllLoss2DBackward>)\n",
      "epoch, iteration: 4 3\n",
      "loss: tensor(0.8127, grad_fn=<NllLoss2DBackward>)\n",
      "epoch, iteration: 4 4\n",
      "loss: tensor(0.8152, grad_fn=<NllLoss2DBackward>)\n",
      "epoch, iteration: 4 5\n",
      "loss: tensor(0.8031, grad_fn=<NllLoss2DBackward>)\n",
      "epoch, iteration: 4 6\n",
      "loss: tensor(0.7883, grad_fn=<NllLoss2DBackward>)\n",
      "epoch, iteration: 4 7\n",
      "loss: tensor(0.8013, grad_fn=<NllLoss2DBackward>)\n",
      "epoch, iteration: 4 8\n",
      "loss: tensor(0.8185, grad_fn=<NllLoss2DBackward>)\n",
      "epoch, iteration: 4 9\n",
      "loss: tensor(0.8505, grad_fn=<NllLoss2DBackward>)\n",
      "epoch, iteration: 4 10\n",
      "loss: tensor(0.8119, grad_fn=<NllLoss2DBackward>)\n",
      "epoch, iteration: 4 11\n",
      "loss: tensor(0.7944, grad_fn=<NllLoss2DBackward>)\n",
      "epoch, iteration: 4 12\n",
      "loss: tensor(0.8172, grad_fn=<NllLoss2DBackward>)\n"
     ]
    },
    {
     "name": "stdout",
     "output_type": "stream",
     "text": [
      "epoch, iteration: 4 13\n",
      "loss: tensor(0.8213, grad_fn=<NllLoss2DBackward>)\n",
      "epoch, iteration: 4 14\n",
      "loss: tensor(0.8037, grad_fn=<NllLoss2DBackward>)\n",
      "epoch, iteration: 4 15\n",
      "loss: tensor(0.8157, grad_fn=<NllLoss2DBackward>)\n",
      "epoch, iteration: 4 16\n",
      "loss: tensor(0.8442, grad_fn=<NllLoss2DBackward>)\n",
      "epoch, iteration: 4 17\n",
      "loss: tensor(0.8705, grad_fn=<NllLoss2DBackward>)\n",
      "epoch, iteration: 4 18\n",
      "loss: tensor(0.8139, grad_fn=<NllLoss2DBackward>)\n",
      "epoch, iteration: 4 19\n",
      "loss: tensor(0.8024, grad_fn=<NllLoss2DBackward>)\n",
      "epoch, iteration: 4 20\n",
      "loss: tensor(0.8116, grad_fn=<NllLoss2DBackward>)\n",
      "epoch, iteration: 4 21\n",
      "loss: tensor(0.7977, grad_fn=<NllLoss2DBackward>)\n",
      "epoch, iteration: 4 22\n",
      "loss: tensor(0.7945, grad_fn=<NllLoss2DBackward>)\n",
      "epoch, iteration: 4 23\n",
      "loss: tensor(0.7815, grad_fn=<NllLoss2DBackward>)\n",
      "epoch, iteration: 4 24\n",
      "loss: tensor(0.7815, grad_fn=<NllLoss2DBackward>)\n",
      "epoch, iteration: 5 0\n",
      "loss: tensor(0.8118, grad_fn=<NllLoss2DBackward>)\n",
      "epoch, iteration: 5 1\n",
      "loss: tensor(0.7959, grad_fn=<NllLoss2DBackward>)\n",
      "epoch, iteration: 5 2\n",
      "loss: tensor(0.8019, grad_fn=<NllLoss2DBackward>)\n",
      "epoch, iteration: 5 3\n",
      "loss: tensor(0.8284, grad_fn=<NllLoss2DBackward>)\n",
      "epoch, iteration: 5 4\n",
      "loss: tensor(0.8242, grad_fn=<NllLoss2DBackward>)\n",
      "epoch, iteration: 5 5\n",
      "loss: tensor(0.8464, grad_fn=<NllLoss2DBackward>)\n",
      "epoch, iteration: 5 6\n",
      "loss: tensor(0.8088, grad_fn=<NllLoss2DBackward>)\n",
      "epoch, iteration: 5 7\n",
      "loss: tensor(0.7976, grad_fn=<NllLoss2DBackward>)\n",
      "epoch, iteration: 5 8\n",
      "loss: tensor(0.7866, grad_fn=<NllLoss2DBackward>)\n",
      "epoch, iteration: 5 9\n",
      "loss: tensor(0.7812, grad_fn=<NllLoss2DBackward>)\n",
      "epoch, iteration: 5 10\n",
      "loss: tensor(0.7966, grad_fn=<NllLoss2DBackward>)\n",
      "epoch, iteration: 5 11\n",
      "loss: tensor(0.7907, grad_fn=<NllLoss2DBackward>)\n",
      "epoch, iteration: 5 12\n",
      "loss: tensor(0.7944, grad_fn=<NllLoss2DBackward>)\n",
      "epoch, iteration: 5 13\n",
      "loss: tensor(0.7960, grad_fn=<NllLoss2DBackward>)\n",
      "epoch, iteration: 5 14\n",
      "loss: tensor(0.7978, grad_fn=<NllLoss2DBackward>)\n",
      "epoch, iteration: 5 15\n",
      "loss: tensor(0.7793, grad_fn=<NllLoss2DBackward>)\n",
      "epoch, iteration: 5 16\n",
      "loss: tensor(0.7781, grad_fn=<NllLoss2DBackward>)\n",
      "epoch, iteration: 5 17\n",
      "loss: tensor(0.7827, grad_fn=<NllLoss2DBackward>)\n",
      "epoch, iteration: 5 18\n",
      "loss: tensor(0.8514, grad_fn=<NllLoss2DBackward>)\n",
      "epoch, iteration: 5 19\n",
      "loss: tensor(0.8168, grad_fn=<NllLoss2DBackward>)\n",
      "epoch, iteration: 5 20\n",
      "loss: tensor(0.8080, grad_fn=<NllLoss2DBackward>)\n",
      "epoch, iteration: 5 21\n",
      "loss: tensor(0.7987, grad_fn=<NllLoss2DBackward>)\n",
      "epoch, iteration: 5 22\n",
      "loss: tensor(0.7874, grad_fn=<NllLoss2DBackward>)\n",
      "epoch, iteration: 5 23\n",
      "loss: tensor(0.7911, grad_fn=<NllLoss2DBackward>)\n",
      "epoch, iteration: 5 24\n",
      "loss: tensor(0.8042, grad_fn=<NllLoss2DBackward>)\n",
      "epoch, iteration: 6 0\n",
      "loss: tensor(0.7889, grad_fn=<NllLoss2DBackward>)\n",
      "epoch, iteration: 6 1\n",
      "loss: tensor(0.7898, grad_fn=<NllLoss2DBackward>)\n",
      "epoch, iteration: 6 2\n",
      "loss: tensor(0.7949, grad_fn=<NllLoss2DBackward>)\n",
      "epoch, iteration: 6 3\n",
      "loss: tensor(0.8015, grad_fn=<NllLoss2DBackward>)\n",
      "epoch, iteration: 6 4\n",
      "loss: tensor(0.7825, grad_fn=<NllLoss2DBackward>)\n",
      "epoch, iteration: 6 5\n",
      "loss: tensor(0.7794, grad_fn=<NllLoss2DBackward>)\n",
      "epoch, iteration: 6 6\n",
      "loss: tensor(0.7809, grad_fn=<NllLoss2DBackward>)\n",
      "epoch, iteration: 6 7\n",
      "loss: tensor(0.7951, grad_fn=<NllLoss2DBackward>)\n",
      "epoch, iteration: 6 8\n",
      "loss: tensor(0.7963, grad_fn=<NllLoss2DBackward>)\n",
      "epoch, iteration: 6 9\n",
      "loss: tensor(0.7816, grad_fn=<NllLoss2DBackward>)\n",
      "epoch, iteration: 6 10\n",
      "loss: tensor(0.7840, grad_fn=<NllLoss2DBackward>)\n",
      "epoch, iteration: 6 11\n",
      "loss: tensor(0.7882, grad_fn=<NllLoss2DBackward>)\n",
      "epoch, iteration: 6 12\n",
      "loss: tensor(0.7837, grad_fn=<NllLoss2DBackward>)\n",
      "epoch, iteration: 6 13\n",
      "loss: tensor(0.8328, grad_fn=<NllLoss2DBackward>)\n",
      "epoch, iteration: 6 14\n",
      "loss: tensor(0.7870, grad_fn=<NllLoss2DBackward>)\n",
      "epoch, iteration: 6 15\n",
      "loss: tensor(0.7896, grad_fn=<NllLoss2DBackward>)\n",
      "epoch, iteration: 6 16\n",
      "loss: tensor(0.7796, grad_fn=<NllLoss2DBackward>)\n",
      "epoch, iteration: 6 17\n",
      "loss: tensor(0.7814, grad_fn=<NllLoss2DBackward>)\n",
      "epoch, iteration: 6 18\n",
      "loss: tensor(0.7765, grad_fn=<NllLoss2DBackward>)\n",
      "epoch, iteration: 6 19\n",
      "loss: tensor(0.7868, grad_fn=<NllLoss2DBackward>)\n",
      "epoch, iteration: 6 20\n",
      "loss: tensor(0.7751, grad_fn=<NllLoss2DBackward>)\n",
      "epoch, iteration: 6 21\n",
      "loss: tensor(0.7834, grad_fn=<NllLoss2DBackward>)\n",
      "epoch, iteration: 6 22\n",
      "loss: tensor(0.7799, grad_fn=<NllLoss2DBackward>)\n",
      "epoch, iteration: 6 23\n",
      "loss: tensor(0.7884, grad_fn=<NllLoss2DBackward>)\n",
      "epoch, iteration: 6 24\n",
      "loss: tensor(0.7956, grad_fn=<NllLoss2DBackward>)\n",
      "epoch, iteration: 7 0\n",
      "loss: tensor(0.7986, grad_fn=<NllLoss2DBackward>)\n",
      "epoch, iteration: 7 1\n",
      "loss: tensor(0.7738, grad_fn=<NllLoss2DBackward>)\n",
      "epoch, iteration: 7 2\n",
      "loss: tensor(0.7733, grad_fn=<NllLoss2DBackward>)\n",
      "epoch, iteration: 7 3\n",
      "loss: tensor(0.7690, grad_fn=<NllLoss2DBackward>)\n",
      "epoch, iteration: 7 4\n",
      "loss: tensor(0.7863, grad_fn=<NllLoss2DBackward>)\n",
      "epoch, iteration: 7 5\n",
      "loss: tensor(0.7740, grad_fn=<NllLoss2DBackward>)\n",
      "epoch, iteration: 7 6\n",
      "loss: tensor(0.7698, grad_fn=<NllLoss2DBackward>)\n",
      "epoch, iteration: 7 7\n",
      "loss: tensor(0.7810, grad_fn=<NllLoss2DBackward>)\n",
      "epoch, iteration: 7 8\n",
      "loss: tensor(0.7764, grad_fn=<NllLoss2DBackward>)\n",
      "epoch, iteration: 7 9\n",
      "loss: tensor(0.7803, grad_fn=<NllLoss2DBackward>)\n",
      "epoch, iteration: 7 10\n",
      "loss: tensor(0.7922, grad_fn=<NllLoss2DBackward>)\n",
      "epoch, iteration: 7 11\n",
      "loss: tensor(0.7801, grad_fn=<NllLoss2DBackward>)\n",
      "epoch, iteration: 7 12\n",
      "loss: tensor(0.7799, grad_fn=<NllLoss2DBackward>)\n",
      "epoch, iteration: 7 13\n",
      "loss: tensor(0.7784, grad_fn=<NllLoss2DBackward>)\n",
      "epoch, iteration: 7 14\n",
      "loss: tensor(0.7835, grad_fn=<NllLoss2DBackward>)\n",
      "epoch, iteration: 7 15\n",
      "loss: tensor(0.7767, grad_fn=<NllLoss2DBackward>)\n",
      "epoch, iteration: 7 16\n",
      "loss: tensor(0.7716, grad_fn=<NllLoss2DBackward>)\n",
      "epoch, iteration: 7 17\n",
      "loss: tensor(0.7694, grad_fn=<NllLoss2DBackward>)\n",
      "epoch, iteration: 7 18\n",
      "loss: tensor(0.7738, grad_fn=<NllLoss2DBackward>)\n",
      "epoch, iteration: 7 19\n",
      "loss: tensor(0.7821, grad_fn=<NllLoss2DBackward>)\n",
      "epoch, iteration: 7 20\n",
      "loss: tensor(0.7793, grad_fn=<NllLoss2DBackward>)\n",
      "epoch, iteration: 7 21\n",
      "loss: tensor(0.7876, grad_fn=<NllLoss2DBackward>)\n",
      "epoch, iteration: 7 22\n",
      "loss: tensor(0.7722, grad_fn=<NllLoss2DBackward>)\n",
      "epoch, iteration: 7 23\n",
      "loss: tensor(0.7776, grad_fn=<NllLoss2DBackward>)\n",
      "epoch, iteration: 7 24\n",
      "loss: tensor(0.7787, grad_fn=<NllLoss2DBackward>)\n",
      "epoch, iteration: 8 0\n",
      "loss: tensor(0.7716, grad_fn=<NllLoss2DBackward>)\n",
      "epoch, iteration: 8 1\n",
      "loss: tensor(0.7697, grad_fn=<NllLoss2DBackward>)\n",
      "epoch, iteration: 8 2\n",
      "loss: tensor(0.7723, grad_fn=<NllLoss2DBackward>)\n",
      "epoch, iteration: 8 3\n",
      "loss: tensor(0.8120, grad_fn=<NllLoss2DBackward>)\n",
      "epoch, iteration: 8 4\n",
      "loss: tensor(0.7987, grad_fn=<NllLoss2DBackward>)\n",
      "epoch, iteration: 8 5\n",
      "loss: tensor(0.7860, grad_fn=<NllLoss2DBackward>)\n",
      "epoch, iteration: 8 6\n",
      "loss: tensor(0.7647, grad_fn=<NllLoss2DBackward>)\n",
      "epoch, iteration: 8 7\n",
      "loss: tensor(0.7762, grad_fn=<NllLoss2DBackward>)\n",
      "epoch, iteration: 8 8\n",
      "loss: tensor(0.7699, grad_fn=<NllLoss2DBackward>)\n",
      "epoch, iteration: 8 9\n",
      "loss: tensor(0.7729, grad_fn=<NllLoss2DBackward>)\n",
      "epoch, iteration: 8 10\n",
      "loss: tensor(0.7676, grad_fn=<NllLoss2DBackward>)\n",
      "epoch, iteration: 8 11\n",
      "loss: tensor(0.7724, grad_fn=<NllLoss2DBackward>)\n",
      "epoch, iteration: 8 12\n",
      "loss: tensor(0.7651, grad_fn=<NllLoss2DBackward>)\n",
      "epoch, iteration: 8 13\n",
      "loss: tensor(0.7729, grad_fn=<NllLoss2DBackward>)\n",
      "epoch, iteration: 8 14\n",
      "loss: tensor(0.7748, grad_fn=<NllLoss2DBackward>)\n",
      "epoch, iteration: 8 15\n",
      "loss: tensor(0.7831, grad_fn=<NllLoss2DBackward>)\n",
      "epoch, iteration: 8 16\n",
      "loss: tensor(0.8049, grad_fn=<NllLoss2DBackward>)\n",
      "epoch, iteration: 8 17\n",
      "loss: tensor(0.7953, grad_fn=<NllLoss2DBackward>)\n",
      "epoch, iteration: 8 18\n",
      "loss: tensor(0.7792, grad_fn=<NllLoss2DBackward>)\n",
      "epoch, iteration: 8 19\n",
      "loss: tensor(0.7774, grad_fn=<NllLoss2DBackward>)\n",
      "epoch, iteration: 8 20\n",
      "loss: tensor(0.7671, grad_fn=<NllLoss2DBackward>)\n",
      "epoch, iteration: 8 21\n",
      "loss: tensor(0.7777, grad_fn=<NllLoss2DBackward>)\n",
      "epoch, iteration: 8 22\n",
      "loss: tensor(0.7824, grad_fn=<NllLoss2DBackward>)\n",
      "epoch, iteration: 8 23\n",
      "loss: tensor(0.7968, grad_fn=<NllLoss2DBackward>)\n",
      "epoch, iteration: 8 24\n",
      "loss: tensor(0.7834, grad_fn=<NllLoss2DBackward>)\n",
      "epoch, iteration: 9 0\n",
      "loss: tensor(0.8034, grad_fn=<NllLoss2DBackward>)\n"
     ]
    },
    {
     "name": "stdout",
     "output_type": "stream",
     "text": [
      "epoch, iteration: 9 1\n",
      "loss: tensor(0.7820, grad_fn=<NllLoss2DBackward>)\n",
      "epoch, iteration: 9 2\n",
      "loss: tensor(0.7741, grad_fn=<NllLoss2DBackward>)\n",
      "epoch, iteration: 9 3\n",
      "loss: tensor(0.7637, grad_fn=<NllLoss2DBackward>)\n",
      "epoch, iteration: 9 4\n",
      "loss: tensor(0.7615, grad_fn=<NllLoss2DBackward>)\n",
      "epoch, iteration: 9 5\n",
      "loss: tensor(0.7710, grad_fn=<NllLoss2DBackward>)\n",
      "epoch, iteration: 9 6\n",
      "loss: tensor(0.7633, grad_fn=<NllLoss2DBackward>)\n",
      "epoch, iteration: 9 7\n",
      "loss: tensor(0.7730, grad_fn=<NllLoss2DBackward>)\n",
      "epoch, iteration: 9 8\n",
      "loss: tensor(0.7945, grad_fn=<NllLoss2DBackward>)\n",
      "epoch, iteration: 9 9\n",
      "loss: tensor(0.7768, grad_fn=<NllLoss2DBackward>)\n",
      "epoch, iteration: 9 10\n",
      "loss: tensor(0.7673, grad_fn=<NllLoss2DBackward>)\n",
      "epoch, iteration: 9 11\n",
      "loss: tensor(0.7655, grad_fn=<NllLoss2DBackward>)\n",
      "epoch, iteration: 9 12\n",
      "loss: tensor(0.7779, grad_fn=<NllLoss2DBackward>)\n",
      "epoch, iteration: 9 13\n",
      "loss: tensor(0.7703, grad_fn=<NllLoss2DBackward>)\n",
      "epoch, iteration: 9 14\n",
      "loss: tensor(0.7698, grad_fn=<NllLoss2DBackward>)\n",
      "epoch, iteration: 9 15\n",
      "loss: tensor(0.7674, grad_fn=<NllLoss2DBackward>)\n",
      "epoch, iteration: 9 16\n",
      "loss: tensor(0.7704, grad_fn=<NllLoss2DBackward>)\n",
      "epoch, iteration: 9 17\n",
      "loss: tensor(0.7681, grad_fn=<NllLoss2DBackward>)\n",
      "epoch, iteration: 9 18\n",
      "loss: tensor(0.7629, grad_fn=<NllLoss2DBackward>)\n",
      "epoch, iteration: 9 19\n",
      "loss: tensor(0.7675, grad_fn=<NllLoss2DBackward>)\n",
      "epoch, iteration: 9 20\n",
      "loss: tensor(0.7666, grad_fn=<NllLoss2DBackward>)\n",
      "epoch, iteration: 9 21\n",
      "loss: tensor(0.7696, grad_fn=<NllLoss2DBackward>)\n",
      "epoch, iteration: 9 22\n",
      "loss: tensor(0.7674, grad_fn=<NllLoss2DBackward>)\n",
      "epoch, iteration: 9 23\n",
      "loss: tensor(0.7626, grad_fn=<NllLoss2DBackward>)\n",
      "epoch, iteration: 9 24\n",
      "loss: tensor(0.7741, grad_fn=<NllLoss2DBackward>)\n"
     ]
    },
    {
     "data": {
      "image/png": "[encoded data removed]",
      "text/plain": [
       "<Figure size 432x288 with 1 Axes>"
      ]
     },
     "metadata": {
      "needs_background": "light"
     },
     "output_type": "display_data"
    }
   ],
   "source": [
    "import numpy as np\n",
    "from torch.utils.data import DataLoader\n",
    "\n",
    "data_path = './data/train'\n",
    "num_workers = 0\n",
    "batch_size = 4\n",
    "train_set = TrainDataset(data_path)\n",
    "training_data_loader = DataLoader(dataset=train_set, num_workers=num_workers, batch_size=batch_size, shuffle=True)\n",
    "\n",
    "data_path = './data/val'\n",
    "num_workers = 0\n",
    "batch_size = 4\n",
    "val_set = TrainDataset(data_path)\n",
    "val_data_loader = DataLoader(dataset=val_set, num_workers=num_workers, batch_size=batch_size, shuffle=True)\n",
    "\n",
    "epoch = 10\n",
    "loss_list = list()\n",
    "val_loss_list = list()\n",
    "for e in range(epoch):\n",
    "    # Fetch images and labels.  \n",
    "    for iteration, sample in enumerate(training_data_loader):\n",
    "    # for iteration, sample in enumerate(list(training_data_loader)[:5]):\n",
    "        print(\"epoch, iteration:\", e, iteration)\n",
    "\n",
    "        img, mask = sample\n",
    "\n",
    "    #     show_image_mask(img[0,...].squeeze(), mask[0,...].squeeze()) #visualise all data in training set\n",
    "    #     plt.pause(1)\n",
    "\n",
    "        # Write your FORWARD below\n",
    "        # Note: Input image to your model and ouput the predicted mask and Your predicted mask should have 4 channels\n",
    "        model.train()  \n",
    "        optimizer.zero_grad()\n",
    "        img=img / 255 - 0.5\n",
    "\n",
    "        y_pred = model(img.reshape(4,1,96,96))           \n",
    "        loss = Loss(y_pred , mask.long())               \n",
    "        loss_list.append(loss)\n",
    "        print(\"loss:\",loss)\n",
    "\n",
    "\n",
    "        # Then write your BACKWARD & OPTIMIZE below\n",
    "        # Note: Compute Loss and Optimize\n",
    "        loss.backward()           # calculate gradients\n",
    "        optimizer.step()          # update model's params\n",
    "    \n",
    "    with torch.no_grad():          # fix the model's params\n",
    "        model.eval()               # set model to evaluation mode\n",
    "        loss_temp = list()\n",
    "        for val_iteration, val_sample in enumerate(val_data_loader):\n",
    "            val_img, val_mask = val_sample\n",
    "            val_img= val_img / 255 - 0.5\n",
    "            val_y_pred = model(val_img.reshape(4,1,96,96))   \n",
    "            val_loss = Loss(val_y_pred , val_mask.long())      # validation loss\n",
    "            loss_temp.append(val_loss)\n",
    "        \n",
    "        val_loss_list.append(np.mean(loss_temp))\n",
    "    \n",
    "import matplotlib.pyplot as plt\n",
    "plt.plot(loss_list, \"bo-\", label=u\"train loss\") \n",
    "plt.plot((np.arange(len(val_loss_list))+1)*25, val_loss_list, \"ro-\", label=u\"vel loss\") \n",
    "plt.legend(loc=\"upper right\")\n",
    "plt.show()"
   ]
  },
  {
   "cell_type": "code",
   "execution_count": null,
   "metadata": {},
   "outputs": [],
   "source": [
    "import matplotlib.pyplot as plt\n",
    "plt.plot(loss_list, \"bo-\", label=u\"train loss\") \n",
    "plt.plot((np.arange(len(val_loss_list))+1)*25, val_loss_list, \"ro-\", label=u\"vel loss\") \n",
    "plt.legend(loc=\"upper right\")\n",
    "plt.show()"
   ]
  },
  {
   "cell_type": "markdown",
   "metadata": {
    "id": "tCZP-xof-Sst"
   },
   "source": [
    "### 2.5 Testing\n",
    "\n",
    "When validating the trained checkpoints (models), remember to change the model status as **Evaluation Mode**"
   ]
  },
  {
   "cell_type": "code",
   "execution_count": 8,
   "metadata": {
    "id": "lGmhTdkciDt0"
   },
   "outputs": [],
   "source": [
    "import numpy as np\n",
    "from torch.autograd import Variable"
   ]
  },
  {
   "cell_type": "code",
   "execution_count": 9,
   "metadata": {
    "id": "LVS22lrjqW_V"
   },
   "outputs": [],
   "source": [
    "# In this block you are expected to write code to load saved model and deploy it to all data in test set to \n",
    "# produce segmentation masks in png images valued 0,1,2,3, which will be used for the submission to Kaggle.\n",
    "data_path = './data/test'\n",
    "num_workers = 0\n",
    "batch_size = 2\n",
    "\n",
    "test_set = TestDataset(data_path)\n",
    "test_data_loader = DataLoader(dataset=test_set, num_workers=num_workers,batch_size=batch_size, shuffle=False)\n",
    "\n",
    "for iteration, sample in enumerate(test_data_loader):\n",
    "    img = sample\n",
    "#     print(img.shape)\n",
    "\n",
    "#     plt.imshow(img[0,...].squeeze(), cmap='gray') #visualise all images in test set\n",
    "#     plt.pause(1)"
   ]
  },
  {
   "cell_type": "markdown",
   "metadata": {
    "id": "wsycVbIuUov3"
   },
   "source": [
    "## 3 Evaluation\n",
    "\n",
    "As we will automatically evaluate your predicted test makes on Kaggle, in this section we expect you to learn:\n",
    "* what is the Dice score used on Kaggle to measure your models performance\n",
    "* how to submit your predicted masks to Kaggle"
   ]
  },
  {
   "cell_type": "markdown",
   "metadata": {
    "id": "NicQyj47jsD1"
   },
   "source": [
    "### 3.1 Dice Score\n",
    "\n",
    "To evaluate the quality of the predicted masks, the Dice score is adopted. Dice score on two masks A and B is defined as the intersection ratio between the overlap area and the average area of two masks. A higher Dice suggests a better registration.\n",
    "\n",
    "$Dice (A, B)= \\frac{2|A \\cap B|}{|A| + |B|} $\n",
    "\n",
    "However, in our coursework, we have three labels in each mask, we will compute the Dice score for each label and then average the three of them as the final score. Below we have given you `categorical_dice` for free so you can test your results before submission to Kaggle."
   ]
  },
  {
   "cell_type": "code",
   "execution_count": 10,
   "metadata": {
    "id": "RzOY4GROqW_V"
   },
   "outputs": [],
   "source": [
    "def categorical_dice(mask1, mask2, label_class=1):\n",
    "    \"\"\"\n",
    "    Dice score of a specified class between two volumes of label masks.\n",
    "    (classes are encoded but by label class number not one-hot )\n",
    "    Note: stacks of 2D slices are considered volumes.\n",
    "\n",
    "    Args:\n",
    "        mask1: N label masks, numpy array shaped (H, W, N)\n",
    "        mask2: N label masks, numpy array shaped (H, W, N)\n",
    "        label_class: the class over which to calculate dice scores\n",
    "\n",
    "    Returns:\n",
    "        volume_dice\n",
    "    \"\"\"\n",
    "    mask1_pos = (mask1 == label_class).astype(np.float32)\n",
    "    mask2_pos = (mask2 == label_class).astype(np.float32)\n",
    "    dice = 2 * np.sum(mask1_pos * mask2_pos) / (np.sum(mask1_pos) + np.sum(mask2_pos))\n",
    "    return dice"
   ]
  },
  {
   "cell_type": "code",
   "execution_count": 11,
   "metadata": {},
   "outputs": [],
   "source": [
    "def see_dice(mask1, mask2):\n",
    "    dice_list = list()\n",
    "    for i in range(1, 4):\n",
    "        dice = categorical_dice(mask1, mask2, label_class=i)\n",
    "        dice_list.append(dice)\n",
    "    return np.mean(dice_list)"
   ]
  },
  {
   "cell_type": "code",
   "execution_count": 14,
   "metadata": {},
   "outputs": [
    {
     "data": {
      "image/png": "[encoded data removed]",
      "text/plain": [
       "<Figure size 432x288 with 1 Axes>"
      ]
     },
     "metadata": {
      "needs_background": "light"
     },
     "output_type": "display_data"
    },
    {
     "data": {
      "image/png": "[encoded data removed]",
      "text/plain": [
       "<Figure size 432x288 with 1 Axes>"
      ]
     },
     "metadata": {
      "needs_background": "light"
     },
     "output_type": "display_data"
    },
    {
     "name": "stdout",
     "output_type": "stream",
     "text": [
      "batch_dice: 0.8327573304924556\n"
     ]
    },
    {
     "data": {
      "image/png": "[encoded data removed]",
      "text/plain": [
       "<Figure size 432x288 with 1 Axes>"
      ]
     },
     "metadata": {
      "needs_background": "light"
     },
     "output_type": "display_data"
    },
    {
     "data": {
      "image/png": "[encoded data removed]",
      "text/plain": [
       "<Figure size 432x288 with 1 Axes>"
      ]
     },
     "metadata": {
      "needs_background": "light"
     },
     "output_type": "display_data"
    },
    {
     "name": "stdout",
     "output_type": "stream",
     "text": [
      "batch_dice: 0.779512054821441\n"
     ]
    },
    {
     "data": {
      "image/png": "[encoded data removed]",
      "text/plain": [
       "<Figure size 432x288 with 1 Axes>"
      ]
     },
     "metadata": {
      "needs_background": "light"
     },
     "output_type": "display_data"
    },
    {
     "data": {
      "image/png": "[encoded data removed]",
      "text/plain": [
       "<Figure size 432x288 with 1 Axes>"
      ]
     },
     "metadata": {
      "needs_background": "light"
     },
     "output_type": "display_data"
    },
    {
     "name": "stdout",
     "output_type": "stream",
     "text": [
      "batch_dice: 0.8955182566117507\n"
     ]
    },
    {
     "data": {
      "image/png": "[encoded data removed]",
      "text/plain": [
       "<Figure size 432x288 with 1 Axes>"
      ]
     },
     "metadata": {
      "needs_background": "light"
     },
     "output_type": "display_data"
    },
    {
     "data": {
      "image/png": "[encoded data removed]",
      "text/plain": [
       "<Figure size 432x288 with 1 Axes>"
      ]
     },
     "metadata": {
      "needs_background": "light"
     },
     "output_type": "display_data"
    },
    {
     "name": "stdout",
     "output_type": "stream",
     "text": [
      "batch_dice: 0.9098314177910193\n"
     ]
    },
    {
     "data": {
      "image/png": "[encoded data removed]",
      "text/plain": [
       "<Figure size 432x288 with 1 Axes>"
      ]
     },
     "metadata": {
      "needs_background": "light"
     },
     "output_type": "display_data"
    },
    {
     "data": {
      "image/png": "[encoded data removed]",
      "text/plain": [
       "<Figure size 432x288 with 1 Axes>"
      ]
     },
     "metadata": {
      "needs_background": "light"
     },
     "output_type": "display_data"
    },
    {
     "name": "stdout",
     "output_type": "stream",
     "text": [
      "batch_dice: 0.9251078428577317\n",
      "val_dice: 0.8685453805148796\n"
     ]
    }
   ],
   "source": [
    "data_path = './data/val'\n",
    "num_workers = 0\n",
    "batch_size = 4\n",
    "val_set = TrainDataset(data_path)\n",
    "val_data_loader = DataLoader(dataset=val_set, num_workers=num_workers, batch_size=batch_size, shuffle=True)\n",
    "\n",
    "with torch.no_grad():\n",
    "    model.eval() \n",
    "    batch_dice_list = list()\n",
    "    for iteration, sample in enumerate(val_data_loader):\n",
    "        img, mask = sample\n",
    "        img = img/255 - 0.5\n",
    "        y_pred = model(img.reshape(4,1,96,96))\n",
    "        masks = torch.zeros(4,1,96,96)\n",
    "        for index in range(y_pred.shape[0]):\n",
    "            for i in range(y_pred.shape[2]):\n",
    "                for j in range(y_pred.shape[3]):\n",
    "                    masks[index,:,i,j] = torch.argmax(y_pred[index,:,i,j])\n",
    "        \n",
    "        plt.imshow(mask[0], cmap='gray')\n",
    "        plt.show()\n",
    "        plt.imshow(masks.squeeze()[0], cmap='gray')\n",
    "        plt.show()\n",
    "        \n",
    "        batch_dice = see_dice(mask.numpy(), masks.squeeze().numpy())\n",
    "        print(\"batch_dice:\",batch_dice)\n",
    "        batch_dice_list.append(batch_dice)\n",
    "    \n",
    "    val_dice = np.mean(batch_dice_list)\n",
    "    print(\"val_dice:\",val_dice)\n",
    "        "
   ]
  },
  {
   "cell_type": "markdown",
   "metadata": {
    "id": "JZcsrwmVjy5k"
   },
   "source": [
    "### 3.2 Submission\n",
    "\n",
    "Kaggle requires your submission to be in a specific CSV format. To help ensure your submissions are in the correct format, we have provided some helper functions to do this for you. For those interested, the png images are run-length encoded and saved in a CSV to the specifications required by our competition.\n",
    "\n",
    "It is sufficient to use this helper function. To do so, save your 80 predicted masks into a directory. ONLY the 80 predicted masks should be in this directory. Call the submission_converter function with the first argument as the directory containing your masks, and the second the directory in which you wish to save your submission."
   ]
  },
  {
   "cell_type": "code",
   "execution_count": 8,
   "metadata": {
    "id": "uHDVbgu0qW_V"
   },
   "outputs": [],
   "source": [
    "import numpy as np\n",
    "import os\n",
    "import cv2\n",
    "\n",
    "def rle_encoding(x):\n",
    "    '''\n",
    "    *** Credit to https://www.kaggle.com/rakhlin/fast-run-length-encoding-python ***\n",
    "    x: numpy array of shape (height, width), 1 - mask, 0 - background\n",
    "    Returns run length as list\n",
    "    '''\n",
    "    dots = np.where(x.T.flatten() == 1)[0]\n",
    "    run_lengths = []\n",
    "    prev = -2\n",
    "    for b in dots:\n",
    "        if (b > prev + 1): run_lengths.extend((b + 1, 0))\n",
    "        run_lengths[-1] += 1\n",
    "        prev = b\n",
    "    return run_lengths\n",
    "\n",
    "\n",
    "def submission_converter(mask_directory, path_to_save):\n",
    "    writer = open(os.path.join(path_to_save, \"submission.csv\"), 'w')\n",
    "    writer.write('id,encoding\\n')\n",
    "\n",
    "    files = os.listdir(mask_directory)\n",
    "\n",
    "    for file in files:\n",
    "        name = file[:-4]\n",
    "        mask = cv2.imread(os.path.join(mask_directory, file), cv2.IMREAD_UNCHANGED)\n",
    "\n",
    "        mask1 = (mask == 1)\n",
    "        mask2 = (mask == 2)\n",
    "        mask3 = (mask == 3)\n",
    "\n",
    "        encoded_mask1 = rle_encoding(mask1)\n",
    "        encoded_mask1 = ' '.join(str(e) for e in encoded_mask1)\n",
    "        encoded_mask2 = rle_encoding(mask2)\n",
    "        encoded_mask2 = ' '.join(str(e) for e in encoded_mask2)\n",
    "        encoded_mask3 = rle_encoding(mask3)\n",
    "        encoded_mask3 = ' '.join(str(e) for e in encoded_mask3)\n",
    "\n",
    "        writer.write(name + '1,' + encoded_mask1 + \"\\n\")\n",
    "        writer.write(name + '2,' + encoded_mask2 + \"\\n\")\n",
    "        writer.write(name + '3,' + encoded_mask3 + \"\\n\")\n",
    "\n",
    "    writer.close()"
   ]
  },
  {
   "cell_type": "code",
   "execution_count": null,
   "metadata": {
    "id": "-bOn_j_FqW_V"
   },
   "outputs": [],
   "source": []
  },
  {
   "cell_type": "code",
   "execution_count": null,
   "metadata": {},
   "outputs": [],
   "source": []
  }
 ],
 "metadata": {
  "colab": {
   "collapsed_sections": [],
   "name": "CW2.ipynb",
   "provenance": []
  },
  "kernelspec": {
   "display_name": "Python 3",
   "language": "python",
   "name": "python3"
  },
  "language_info": {
   "codemirror_mode": {
    "name": "ipython",
    "version": 3
   },
   "file_extension": ".py",
   "mimetype": "text/x-python",
   "name": "python",
   "nbconvert_exporter": "python",
   "pygments_lexer": "ipython3",
   "version": "3.8.5"
  }
 },
 "nbformat": 4,
 "nbformat_minor": 1
}
